{
 "cells": [
  {
   "cell_type": "markdown",
   "id": "indirect-vertical",
   "metadata": {},
   "source": [
    "# atdiag example\n",
    "\n",
    "run diagnostic to test pyAT installation"
   ]
  },
  {
   "cell_type": "code",
   "execution_count": null,
   "id": "medical-germany",
   "metadata": {},
   "outputs": [],
   "source": [
    "from os import path, environ\n",
    "import numpy as np\n",
    "import matplotlib\n",
    "\n",
    "import at\n",
    "import at.plot"
   ]
  },
  {
   "cell_type": "code",
   "execution_count": null,
   "id": "tracked-cradle",
   "metadata": {},
   "outputs": [],
   "source": [
    "pth = path.realpath(environ['HOME'] + '/at/pyat/test_matlab/hmba.mat')\n",
    "test_ring = at.load_mat(pth)\n",
    "at.plot.plot_linear(test_ring, ('beta', [0, 1]))"
   ]
  }
 ],
 "metadata": {
  "kernelspec": {
   "display_name": "Python 3",
   "language": "python",
   "name": "python3"
  },
  "language_info": {
   "codemirror_mode": {
    "name": "ipython",
    "version": 3
   },
   "file_extension": ".py",
   "mimetype": "text/x-python",
   "name": "python",
   "nbconvert_exporter": "python",
   "pygments_lexer": "ipython3",
   "version": "3.9.1+"
  }
 },
 "nbformat": 4,
 "nbformat_minor": 5
}
