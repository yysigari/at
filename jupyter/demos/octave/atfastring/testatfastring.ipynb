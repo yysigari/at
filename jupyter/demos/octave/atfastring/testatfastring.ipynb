{
 "cells": [
  {
   "cell_type": "markdown",
   "metadata": {},
   "source": [
    "# [testatfastring](https://github.com/atcollab/at/blob/master/atmat/atdemos/atfastring/testatfastring.m) example"
   ]
  },
  {
   "cell_type": "markdown",
   "metadata": {},
   "source": [
    "load esrf ring"
   ]
  },
  {
   "cell_type": "code",
   "execution_count": null,
   "metadata": {},
   "outputs": [],
   "source": [
    "ring=esrf;"
   ]
  },
  {
   "cell_type": "code",
   "execution_count": null,
   "metadata": {},
   "outputs": [],
   "source": [
    "% indcav=findcells(ring,'Class','RFCavity');\n",
    "% cav=ring(indcav(1));\n",
    "% ring(indcav(:))=[];\n",
    "% ring=[cav;ring];"
   ]
  },
  {
   "cell_type": "markdown",
   "metadata": {},
   "source": [
    "set RF cavity"
   ]
  },
  {
   "cell_type": "code",
   "execution_count": null,
   "metadata": {},
   "outputs": [],
   "source": [
    "ring=atsetcavity(ring,8e6,0,992);"
   ]
  },
  {
   "cell_type": "markdown",
   "metadata": {},
   "source": [
    "Now, create fastring and fastringrad from ring."
   ]
  },
  {
   "cell_type": "code",
   "execution_count": null,
   "metadata": {},
   "outputs": [],
   "source": [
    "[fastring,fastringrad]=atfastring(ring);"
   ]
  },
  {
   "cell_type": "markdown",
   "metadata": {},
   "source": [
    "Set an initial condition for tracking"
   ]
  },
  {
   "cell_type": "code",
   "execution_count": null,
   "metadata": {},
   "outputs": [],
   "source": [
    "z0=[1e-5,0,0,0,1e-3,0]';"
   ]
  },
  {
   "cell_type": "markdown",
   "metadata": {},
   "source": [
    "Now, track with full ring and with fast ring and time the computation."
   ]
  },
  {
   "cell_type": "code",
   "execution_count": null,
   "metadata": {},
   "outputs": [],
   "source": [
    "tic\n",
    "z1=ringpass(ring,z0,500);\n",
    "toc"
   ]
  },
  {
   "cell_type": "code",
   "execution_count": null,
   "metadata": {},
   "outputs": [],
   "source": [
    "tic\n",
    "z1fast=ringpass(fastring,z0,500);\n",
    "toc"
   ]
  },
  {
   "cell_type": "markdown",
   "metadata": {},
   "source": [
    "Check tunes and chromaticity:"
   ]
  },
  {
   "cell_type": "code",
   "execution_count": null,
   "metadata": {},
   "outputs": [],
   "source": [
    "[p,t,c]=atlinopt(ring,0,1);\n",
    "[pf,tf,cf]=atlinopt(fastring,0,1);\n",
    "\n",
    "t\n",
    "tf\n",
    "c\n",
    "cf"
   ]
  },
  {
   "cell_type": "markdown",
   "metadata": {},
   "source": [
    "Now compare the horizontal and transverse tracking results."
   ]
  },
  {
   "cell_type": "code",
   "execution_count": null,
   "metadata": {},
   "outputs": [],
   "source": [
    "plot(1:length(z1),z1(1,:),'r',1:length(z1fast),z1fast(1,:),'b');\n",
    "legend('full ring','fast ring');\n",
    "xlabel('turns');\n",
    "ylabel('x (m)');\n",
    "\n",
    "figure\n",
    "plot(z1(5,:),'r');\n",
    "hold on\n",
    "plot(z1fast(5,:),'b');\n",
    "legend('full ring','fast ring');\n",
    "xlabel('turns');\n",
    "ylabel('delta');\n",
    "\n",
    "\n",
    "% figure\n",
    "% hold on\n",
    "% plot(z1fastrad(5,:),'-k');"
   ]
  }
 ],
 "metadata": {
  "kernelspec": {
   "display_name": "Octave",
   "language": "octave",
   "name": "octave"
  },
  "language_info": {
   "file_extension": ".m",
   "help_links": [
    {
     "text": "GNU Octave",
     "url": "https://www.gnu.org/software/octave/support.html"
    },
    {
     "text": "Octave Kernel",
     "url": "https://github.com/Calysto/octave_kernel"
    },
    {
     "text": "MetaKernel Magics",
     "url": "https://metakernel.readthedocs.io/en/latest/source/README.html"
    }
   ],
   "mimetype": "text/x-octave",
   "name": "octave",
   "version": "6.1.0"
  }
 },
 "nbformat": 4,
 "nbformat_minor": 4
}
