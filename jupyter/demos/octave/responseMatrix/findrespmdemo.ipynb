{
 "cells": [
  {
   "cell_type": "markdown",
   "metadata": {},
   "source": [
    "# [findrespmdemo](https://github.com/atcollab/at/blob/master/atmat/atdemos/responseMatrix/findrespmdemo.m) example"
   ]
  },
  {
   "cell_type": "markdown",
   "metadata": {},
   "source": [
    "`FINDRESPMDEMO` response matrix demo\n",
    "This script illustrates the use of AT function `FINDRESPM`"
   ]
  },
  {
   "cell_type": "code",
   "execution_count": null,
   "metadata": {},
   "outputs": [],
   "source": [
    "spear2"
   ]
  },
  {
   "cell_type": "markdown",
   "metadata": {},
   "source": [
    "The most common `RM` is corrector-to-BPM\n",
    "In this demonstration we will not use the actual correctors\n",
    "to keep the lattice simple. \n",
    "\n",
    "We will use all focusing quadrupoles as correctors:\n",
    "In order to do this we need to use `StrMPolesymplectic4` pass-method\n",
    "for them. This mehod looks at all terms of the polynomial\n",
    "expansion of transverse magnetic field. \n",
    "(`QuadLinearPass` only looks at field `K`)\n",
    "`PolynomB(1)` gives horizontal kick\n",
    "`PolynomA(1)` gives a vertical kick"
   ]
  },
  {
   "cell_type": "markdown",
   "metadata": {},
   "source": [
    "Find indexes of elements that belong to `QF` `Q1` `Q2` `Q3` families\n",
    "We will use them as corrector elements"
   ]
  },
  {
   "cell_type": "code",
   "execution_count": null,
   "metadata": {},
   "outputs": [],
   "source": [
    "QFI = findcells(THERING,'FamName','QF');\n",
    "Q1I = findcells(THERING,'FamName','Q1');\n",
    "Q2I = findcells(THERING,'FamName','Q2');\n",
    "Q3I = findcells(THERING,'FamName','Q3');\n",
    "CORRINDEX = sort([ QFI Q1I Q2I Q3I]);"
   ]
  },
  {
   "cell_type": "markdown",
   "metadata": {},
   "source": [
    "Install the new pass-method `StrMPoleSymplectic4Pass`"
   ]
  },
  {
   "cell_type": "code",
   "execution_count": null,
   "metadata": {},
   "outputs": [],
   "source": [
    "THERING = setcellstruct(THERING,'PassMethod',CORRINDEX,'StrMPoleSymplectic4Pass');"
   ]
  },
  {
   "cell_type": "markdown",
   "metadata": {},
   "source": [
    "We will use etrance points of all bending magnets as observation points (BPMs)"
   ]
  },
  {
   "cell_type": "code",
   "execution_count": null,
   "metadata": {},
   "outputs": [],
   "source": [
    "BPMINDEX = findcells(THERING,'BendingAngle');\n",
    "\n",
    "NBPM = length(BPMINDEX);\n",
    "NCOR = length(CORRINDEX);"
   ]
  },
  {
   "cell_type": "markdown",
   "metadata": {},
   "source": [
    "Prepare input parameters for `FINDRESPM` that will tell it, which\n",
    "parameters to use as orbit perturbations\n",
    "See help for `FINDRESPM`"
   ]
  },
  {
   "cell_type": "markdown",
   "metadata": {},
   "source": [
    "Set the size of a parameter change for numeric differentiation"
   ]
  },
  {
   "cell_type": "code",
   "execution_count": null,
   "metadata": {},
   "outputs": [],
   "source": [
    "KICKSIZE = 1e-5;\n",
    "\n",
    "RX = findrespm(THERING,BPMINDEX ,CORRINDEX, KICKSIZE, 'PolynomB',1,1);\n",
    "RY = findrespm(THERING,BPMINDEX ,CORRINDEX, KICKSIZE, 'PolynomA',1,1);"
   ]
  },
  {
   "cell_type": "markdown",
   "metadata": {},
   "source": [
    "Build the response matrix \n",
    "In the form\n",
    "\n",
    "```\n",
    "| HH HV |\n",
    "| VH VV |\n",
    "```\n",
    "\n",
    "- `HH` - Horizontal BPM response to horizontal orbit kicks\n",
    "- `HV` - Horizontal BPM response to vertical orbit kicks\n",
    "- `VH` - vertical BPM response to horizontal orbit kicks\n",
    "- `VV` - vertical BPM response to vertical orbit kicks\n"
   ]
  },
  {
   "cell_type": "code",
   "execution_count": null,
   "metadata": {},
   "outputs": [],
   "source": [
    "RespM_XY = [RX{1} RY{1}; RX{3} RY{3}];"
   ]
  },
  {
   "cell_type": "code",
   "execution_count": null,
   "metadata": {},
   "outputs": [],
   "source": [
    "figure(1);\n",
    "mesh(RespM_XY);\n",
    "colormap('copper');\n",
    "xlabel('Corrector Number')\n",
    "ylabel('BPM Number');\n",
    "zlabel('Normalized Orbit Response');\n",
    "title('Orbit Response Matrix - uncoupled lattice')"
   ]
  },
  {
   "cell_type": "markdown",
   "metadata": {},
   "source": [
    "Now we wish to introduce coupling:"
   ]
  },
  {
   "cell_type": "code",
   "execution_count": null,
   "metadata": {},
   "outputs": [],
   "source": [
    "QDI = findcells(THERING,'FamName','QD');"
   ]
  },
  {
   "cell_type": "markdown",
   "metadata": {},
   "source": [
    "Generate random rotations:"
   ]
  },
  {
   "cell_type": "code",
   "execution_count": null,
   "metadata": {},
   "outputs": [],
   "source": [
    "QDTILTS = 1*(pi/180)*randn(1,length(QDI));"
   ]
  },
  {
   "cell_type": "markdown",
   "metadata": {},
   "source": [
    "Put random values in the ring"
   ]
  },
  {
   "cell_type": "code",
   "execution_count": null,
   "metadata": {},
   "outputs": [],
   "source": [
    "settilt(QDI,QDTILTS);"
   ]
  },
  {
   "cell_type": "markdown",
   "metadata": {},
   "source": [
    "Generate the new response matrix for the lattice with errors"
   ]
  },
  {
   "cell_type": "code",
   "execution_count": null,
   "metadata": {},
   "outputs": [],
   "source": [
    "RX = findrespm(THERING,BPMINDEX ,CORRINDEX, KICKSIZE, 'PolynomB',1,1);\n",
    "RY = findrespm(THERING,BPMINDEX ,CORRINDEX, KICKSIZE, 'PolynomA',1,1);"
   ]
  },
  {
   "cell_type": "code",
   "execution_count": null,
   "metadata": {},
   "outputs": [],
   "source": [
    "RespM_XY_Coupled = [RX{1} RY{1}; RX{3} RY{3}];"
   ]
  },
  {
   "cell_type": "code",
   "execution_count": null,
   "metadata": {},
   "outputs": [],
   "source": [
    "figure(2);\n",
    "mesh(RespM_XY_Coupled);\n",
    "colormap('copper');\n",
    "title('Orbit Response Matrix - coupled lattice')\n",
    "xlabel('Corrector Number')\n",
    "ylabel('BPM Number');\n",
    "zlabel('Normalized Orbit Response');"
   ]
  }
 ],
 "metadata": {
  "kernelspec": {
   "display_name": "Octave",
   "language": "octave",
   "name": "octave"
  },
  "language_info": {
   "file_extension": ".m",
   "help_links": [
    {
     "text": "GNU Octave",
     "url": "https://www.gnu.org/software/octave/support.html"
    },
    {
     "text": "Octave Kernel",
     "url": "https://github.com/Calysto/octave_kernel"
    },
    {
     "text": "MetaKernel Magics",
     "url": "https://metakernel.readthedocs.io/en/latest/source/README.html"
    }
   ],
   "mimetype": "text/x-octave",
   "name": "octave",
   "version": "6.1.0"
  }
 },
 "nbformat": 4,
 "nbformat_minor": 4
}
