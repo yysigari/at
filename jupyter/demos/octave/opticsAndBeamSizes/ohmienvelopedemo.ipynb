{
 "cells": [
  {
   "cell_type": "markdown",
   "metadata": {},
   "source": [
    "# [ohmienvelopedemo](https://github.com/atcollab/at/blob/master/atmat/atdemos/opticsAndBeamSizes/ohmienvelopedemo.m) example"
   ]
  },
  {
   "cell_type": "markdown",
   "metadata": {},
   "source": [
    "`OHMIENVELOPEDEMO` illustrates the use of `OHMIENVELOPE` function"
   ]
  },
  {
   "cell_type": "code",
   "execution_count": null,
   "metadata": {},
   "outputs": [],
   "source": [
    "spear2rad"
   ]
  },
  {
   "cell_type": "code",
   "execution_count": null,
   "metadata": {},
   "outputs": [],
   "source": [
    "for i=1:272 THERING{i}.Energy = 3e9; end\n",
    "\n",
    "BENDINDEX = findcells(THERING,'PassMethod','BndMPoleSymplectic4RadPass');\n",
    "QUADSEXTINDEX = findcells(THERING,'PassMethod','StrMPoleSymplectic4RadPass');\n",
    "\n",
    "RADELEMINDEX = sort([BENDINDEX QUADSEXTINDEX]);"
   ]
  },
  {
   "cell_type": "markdown",
   "metadata": {},
   "source": [
    "Find  indexes of elements in different families"
   ]
  },
  {
   "cell_type": "code",
   "execution_count": null,
   "metadata": {},
   "outputs": [],
   "source": [
    "QFI = findcells(THERING,'FamName','QF');"
   ]
  },
  {
   "cell_type": "markdown",
   "metadata": {},
   "source": [
    "Select some of them to randomly tilt"
   ]
  },
  {
   "cell_type": "code",
   "execution_count": null,
   "metadata": {},
   "outputs": [],
   "source": [
    "TILTI = QFI([3:7 10:12]);"
   ]
  },
  {
   "cell_type": "markdown",
   "metadata": {},
   "source": [
    "**NOTE:** How to introduce random coupling and misalignment errors:\n",
    "s-rotations(tilts) and transverse displacements (shifts)"
   ]
  },
  {
   "cell_type": "markdown",
   "metadata": {},
   "source": [
    "1. generate random  rotations"
   ]
  },
  {
   "cell_type": "code",
   "execution_count": null,
   "metadata": {},
   "outputs": [],
   "source": [
    "tilterr = 0.1*pi/180; % RMS tilt error [radians]\n",
    "qftilts = tilterr*randn(1,length(TILTI));"
   ]
  },
  {
   "cell_type": "markdown",
   "metadata": {},
   "source": [
    "2. rotate elements"
   ]
  },
  {
   "cell_type": "code",
   "execution_count": null,
   "metadata": {},
   "outputs": [],
   "source": [
    "settilt(TILTI,qftilts);\n",
    "\n",
    "[ENV, DP, DL] = ohmienvelope(THERING(:),RADELEMINDEX, 1:length(THERING)+1);\n",
    "sigmas = cat(2,ENV.Sigma);\n",
    "tilt = cat(2,ENV.Tilt);\n",
    "spos = findspos(THERING,1:length(THERING)+1);"
   ]
  },
  {
   "cell_type": "code",
   "execution_count": null,
   "metadata": {},
   "outputs": [],
   "source": [
    "figure(1)\n",
    "plot(spos,tilt*180/pi,'.-')\n",
    "set(gca,'XLim',[0 spos(end)])\n",
    "title('Rotation angle of the beam ellipse [degrees]');\n",
    "xlabel('s - position [m]');\n",
    "\n",
    "figure(2)\n",
    "[A, H1, H2] = plotyy(spos,sigmas(1,:),spos,sigmas(2,:));\n",
    "\n",
    "set(H1,'Marker','.')\n",
    "set(A(1),'XLim',[0 spos(end)])\n",
    "set(H2,'Marker','.')\n",
    "set(A(2),'XLim',[0 spos(end)])\n",
    "title('Principal axis of the beam ellipse [m]');\n",
    "xlabel('s - position [m]');"
   ]
  }
 ],
 "metadata": {
  "kernelspec": {
   "display_name": "Octave",
   "language": "octave",
   "name": "octave"
  },
  "language_info": {
   "file_extension": ".m",
   "help_links": [
    {
     "text": "GNU Octave",
     "url": "https://www.gnu.org/software/octave/support.html"
    },
    {
     "text": "Octave Kernel",
     "url": "https://github.com/Calysto/octave_kernel"
    },
    {
     "text": "MetaKernel Magics",
     "url": "https://metakernel.readthedocs.io/en/latest/source/README.html"
    }
   ],
   "mimetype": "text/x-octave",
   "name": "octave",
   "version": "6.1.0"
  }
 },
 "nbformat": 4,
 "nbformat_minor": 4
}
