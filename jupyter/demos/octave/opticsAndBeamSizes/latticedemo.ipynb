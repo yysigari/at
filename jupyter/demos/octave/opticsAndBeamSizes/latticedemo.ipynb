{
 "cells": [
  {
   "cell_type": "markdown",
   "metadata": {},
   "source": [
    "# [latticedemo](https://github.com/atcollab/at/blob/master/atmat/atdemos/opticsAndBeamSizes/latticedemo.m) example"
   ]
  },
  {
   "cell_type": "markdown",
   "metadata": {},
   "source": [
    "LATTICEDEMO self-running tutorial\n",
    "demonstrates \n",
    "1. ELEMENT, family of ELEMENTS, sequence of ELEMENTS \n",
    "2. Lattice representation\n",
    "3. Creating a lattice \n",
    "4. Creating and editing lattice files"
   ]
  },
  {
   "cell_type": "markdown",
   "metadata": {},
   "source": [
    "An element in Accelerator Toolbox is a 1-by-1 Octave STRUCTURE\n",
    "\n",
    "The folowing code creates a structure D1 for a drift space\n",
    "and a structure QF for a quadrupole."
   ]
  },
  {
   "cell_type": "code",
   "execution_count": null,
   "metadata": {},
   "outputs": [],
   "source": [
    "D1.FamName = 'DR01';\n",
    "D1.Length  = 3;\n",
    "D1.PassMethod = 'DriftPass';\n",
    "\n",
    "QF.FamName = 'QF';\n",
    "QF.Length = 1;\n",
    "QF.K = 0.2;\n",
    "QF.MaxOrder = 3;\n",
    "QF.NumIntSteps = 1;\n",
    "QF.PolynomA= [0 0 0];\n",
    "QF.PolynomB= [0 0.2 0];\n",
    "QF.R1= eye(6);\n",
    "QF.R2= eye(6);\n",
    "QF.T1= [0 0 0 0 0 0];\n",
    "QF.T2= [0 0 0 0 0 0];\n",
    "QF.PassMethod= 'QuadLinearPass';"
   ]
  },
  {
   "cell_type": "markdown",
   "metadata": {},
   "source": [
    "Use `WHOS`, `DISP` or just type variable's name without closing semicolon \n",
    "to print the element's info:"
   ]
  },
  {
   "cell_type": "code",
   "execution_count": null,
   "metadata": {},
   "outputs": [],
   "source": [
    "whos D1 QF                   \n",
    "disp(D1)                      \n",
    "QF                            "
   ]
  },
  {
   "cell_type": "markdown",
   "metadata": {},
   "source": [
    "The next few lines will create another drift structure `D2` from the exiting `D1`\n",
    "and modify the values of fields `FamName` and `Length`"
   ]
  },
  {
   "cell_type": "code",
   "execution_count": null,
   "metadata": {},
   "outputs": [],
   "source": [
    "D2 = D1;\n",
    "\n",
    "D2.FamName = 'DR02';\n",
    "D2.Length = 2;\n",
    "\n",
    "disp(D2)"
   ]
  },
  {
   "cell_type": "markdown",
   "metadata": {},
   "source": [
    "Create another quadrupole element structure `QD` from `QF` and modify\n",
    "the values of fields `K` and `PolynomB` to make it defocusing "
   ]
  },
  {
   "cell_type": "code",
   "execution_count": null,
   "metadata": {},
   "outputs": [],
   "source": [
    "QD = QF;\n",
    "QD.FamName = 'QD';\n",
    "QD.K = -0.4;"
   ]
  },
  {
   "cell_type": "markdown",
   "metadata": {},
   "source": [
    "Field `PolynomB` is a vector with polynomial field expansion coefficients.\n",
    "The second element (quadrupole coefficient) must be consistent with field `K`"
   ]
  },
  {
   "cell_type": "code",
   "execution_count": null,
   "metadata": {},
   "outputs": [],
   "source": [
    "QD.PolynomB(2) = QD.K;\n",
    "\n",
    "disp(QD)"
   ]
  },
  {
   "cell_type": "markdown",
   "metadata": {},
   "source": [
    "We have declared four elements:"
   ]
  },
  {
   "cell_type": "code",
   "execution_count": null,
   "metadata": {},
   "outputs": [],
   "source": [
    "whos"
   ]
  },
  {
   "cell_type": "markdown",
   "metadata": {},
   "source": [
    "They are now independent from each other\n",
    "\n",
    "We are ultimately interested in sequences of elements\n",
    "to model storage ring lattices or single-pass beam transport lines.\n",
    "The next section will illustrate building of such sequences\n",
    "\n",
    "Accelerator Toolbox represents sequences of elements as Octave cell arrays\n",
    "where individual cells are 1-by-1 structures containing element data\n",
    "The following commad creates a simple `FODO` cell by copying previously \n",
    "created element structures for drifts and quadrupole magnets to a cell array `FODOCELL`:"
   ]
  },
  {
   "cell_type": "code",
   "execution_count": null,
   "metadata": {},
   "outputs": [],
   "source": [
    "FODOCELL = {QF D1 QD D2 QF};\n",
    "\n",
    "whos FODOCELL"
   ]
  },
  {
   "cell_type": "markdown",
   "metadata": {},
   "source": [
    "`LENGTH` is useful to find the number of elements in a sequence"
   ]
  },
  {
   "cell_type": "code",
   "execution_count": null,
   "metadata": {},
   "outputs": [],
   "source": [
    "L = length(FODOCELL) "
   ]
  },
  {
   "cell_type": "markdown",
   "metadata": {},
   "source": [
    "Use `{:}` cell array syntax to print some or all elements"
   ]
  },
  {
   "cell_type": "code",
   "execution_count": null,
   "metadata": {},
   "outputs": [],
   "source": [
    "FODOCELL{1}"
   ]
  },
  {
   "cell_type": "code",
   "execution_count": null,
   "metadata": {},
   "outputs": [],
   "source": [
    "FODOCELL{:}"
   ]
  },
  {
   "cell_type": "markdown",
   "metadata": {},
   "source": [
    "Let's build a cell array `THERING` that represents a closed ring \n",
    "with 10 periods of `FODOCELL` the same way we would build \n",
    "any other array in Octave from the command line"
   ]
  },
  {
   "cell_type": "code",
   "execution_count": null,
   "metadata": {},
   "outputs": [],
   "source": [
    "THERING = [FODOCELL FODOCELL FODOCELL FODOCELL FODOCELL...\n",
    "           FODOCELL FODOCELL FODOCELL FODOCELL FODOCELL]; \n",
    "        \n",
    "whos THERING"
   ]
  },
  {
   "cell_type": "markdown",
   "metadata": {},
   "source": [
    "The first element in `THERING` is"
   ]
  },
  {
   "cell_type": "code",
   "execution_count": null,
   "metadata": {},
   "outputs": [],
   "source": [
    "THERING{1}"
   ]
  },
  {
   "cell_type": "markdown",
   "metadata": {},
   "source": [
    "To inspect or change the value of a specific field we can use Octave syntax\n",
    "for accessing cells in cell arrays and field in structures"
   ]
  },
  {
   "cell_type": "code",
   "execution_count": null,
   "metadata": {},
   "outputs": [],
   "source": [
    "oldK = THERING{1}.K\n",
    "\n",
    "THERING{1}.K = 0.25;\n",
    "\n",
    "newK = THERING{1}.K"
   ]
  },
  {
   "cell_type": "markdown",
   "metadata": {},
   "source": [
    "Lattice `THERING` is a variable in Octave workspace.\n",
    "We can use it in accelerator physics functions and scripts\n",
    "\n",
    "For example: function `FindM44` finds 4-by-4 transverse transfer matrix"
   ]
  },
  {
   "cell_type": "code",
   "execution_count": null,
   "metadata": {},
   "outputs": [],
   "source": [
    "M = findm44(THERING,0)"
   ]
  },
  {
   "cell_type": "markdown",
   "metadata": {},
   "source": [
    "Help pages for function may be viewed in Jupyter Web IDE"
   ]
  },
  {
   "cell_type": "code",
   "execution_count": null,
   "metadata": {},
   "outputs": [],
   "source": [
    "?findm44"
   ]
  },
  {
   "cell_type": "markdown",
   "metadata": {},
   "source": [
    "## SUMMARY\n",
    "1. Individual elements are represented by 1-by-1 Octave structures\n",
    "2. Element sequences (lattices) are represented by 1-dimensional \n",
    "   Octave cell arrays of stuctures\n",
    "3. Octave syntax for hanling structures and cell arrays applies. \n",
    "   No special language is required to define a lattice."
   ]
  }
 ],
 "metadata": {
  "kernelspec": {
   "display_name": "Octave",
   "language": "octave",
   "name": "octave"
  },
  "language_info": {
   "file_extension": ".m",
   "help_links": [
    {
     "text": "GNU Octave",
     "url": "https://www.gnu.org/software/octave/support.html"
    },
    {
     "text": "Octave Kernel",
     "url": "https://github.com/Calysto/octave_kernel"
    },
    {
     "text": "MetaKernel Magics",
     "url": "https://metakernel.readthedocs.io/en/latest/source/README.html"
    }
   ],
   "mimetype": "text/x-octave",
   "name": "octave",
   "version": "6.1.0"
  }
 },
 "nbformat": 4,
 "nbformat_minor": 4
}
