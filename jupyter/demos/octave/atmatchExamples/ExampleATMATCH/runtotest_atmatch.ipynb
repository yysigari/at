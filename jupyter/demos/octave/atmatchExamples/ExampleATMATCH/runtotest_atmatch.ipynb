{
 "cells": [
  {
   "cell_type": "markdown",
   "metadata": {},
   "source": [
    "# [runtotest_atmatch](https://github.com/atcollab/at/blob/master/atmat/atdemos/atmatchExamples/ExampleATMATCH/runtotest_atmatch.m) example\n",
    "\n",
    "macro match dba test lattice beta functions and dispersion using\n",
    "quadrupoles.\n",
    "\n",
    "this macro shows the available functionalities of atmatch. \n",
    " \n",
    "various variable and constraint input constructions are shown\n"
   ]
  },
  {
   "cell_type": "code",
   "execution_count": null,
   "metadata": {},
   "outputs": [],
   "source": [
    "load('dba.mat','RING');\n",
    "addpath(fullfile(pwd,'..'))"
   ]
  },
  {
   "cell_type": "markdown",
   "metadata": {},
   "source": [
    "VARIABLES"
   ]
  },
  {
   "cell_type": "code",
   "execution_count": null,
   "metadata": {},
   "outputs": [],
   "source": [
    "% Variab1=struct('Indx',{findcells(RING,'FamName','QD'),findcells(RING,'FamName','QF')},...\n",
    "%     'LowLim',{[],[]},...\n",
    "%     'HighLim',{[],[]},...\n",
    "%     'Parameter',{{'PolynomB',{1,2}},{'PolynomB',{1,2}}}...\n",
    "%     ); \n",
    "\n",
    "% or \n",
    "\n",
    "Variab1=atVariableBuilder(RING,{'QD','QF'},{{'PolynomB',{1,2}},{'PolynomB',{1,2}}});"
   ]
  },
  {
   "cell_type": "code",
   "execution_count": null,
   "metadata": {},
   "outputs": [],
   "source": [
    "k1start=getcellstruct(RING,'PolynomB',findcells(RING,'FamName','QDM'),1,2);"
   ]
  },
  {
   "cell_type": "code",
   "execution_count": null,
   "metadata": {},
   "outputs": [],
   "source": [
    "Variab2=struct('Indx',{findcells(RING,'FamName','QFM'),@(RING,K1Val)VaryQuadFam(RING,K1Val,'QDM')},...\n",
    "    'LowLim',{[],[]},...\n",
    "    'HighLim',{[],[]},...\n",
    "    'Parameter',{{'PolynomB',{1,2}},k1start(1)}...\n",
    "    );\n",
    "\n",
    "Variab=[Variab1,Variab2];"
   ]
  },
  {
   "cell_type": "markdown",
   "metadata": {},
   "source": [
    "CONSTRAINTS"
   ]
  },
  {
   "cell_type": "code",
   "execution_count": null,
   "metadata": {},
   "outputs": [],
   "source": [
    "qfmindx=findcells(RING,'FamName','QFM');\n",
    "Constr1=struct('Fun',@(RING,~,~)dispx(RING,1),...\n",
    "    'Min',0,...\n",
    "    'Max',0,...\n",
    "    'RefPoints',[],...\n",
    "    'Weight',1);\n",
    "disp('Horizontal dispersion at straigth section= 0')\n",
    "\n",
    "Constr2=struct('Fun',@(RING,~,~)betx(RING,qfmindx(2)),...\n",
    "    'Min',17.3,...\n",
    "    'Max',17.3,...\n",
    "    'RefPoints',[],...\n",
    "    'Weight',1);\n",
    "disp('Horizontal beta at QFM= 17.3')\n",
    "\n",
    "Constr3=struct('Fun',{@(RING,~,~)bety(RING,qfmindx(2)),@(~,ld,~)mux(ld)},...\n",
    "    'Min',{0.58,4.35},...\n",
    "    'Max',{0.58,4.35},...\n",
    "    'RefPoints',{[],[1:length(RING)+1]},...\n",
    "    'Weight',{1,1});\n",
    "disp('Vertical beta at QFM= 0.58')\n",
    "disp('Horizontal phase advance = 4.35')\n",
    "\n",
    "Constr=[Constr1,Constr2,Constr3];"
   ]
  },
  {
   "cell_type": "markdown",
   "metadata": {},
   "source": [
    "MATCHING"
   ]
  },
  {
   "cell_type": "code",
   "execution_count": null,
   "metadata": {
    "scrolled": true
   },
   "outputs": [],
   "source": [
    "disp('wait few iterations')\n",
    "RING_matched=atmatch(RING,Variab,Constr,10^-20,1000,3,@lsqnonlin);"
   ]
  },
  {
   "cell_type": "markdown",
   "metadata": {},
   "source": [
    "return"
   ]
  },
  {
   "cell_type": "code",
   "execution_count": null,
   "metadata": {},
   "outputs": [],
   "source": [
    "c1=atlinconstraint(qfmindx(2),...\n",
    "    {{'beta',{1}},{'beta',{2}}},...\n",
    "    [17.3,0.58],...\n",
    "    [17.3,0.58],...\n",
    "    [1 1]);\n",
    "\n",
    "c2=atlinconstraint(1,...\n",
    "    {{'Dispersion',{1}},{'tune',{1}}},...\n",
    "    [0,0.35],...\n",
    "    [0,0.35],...\n",
    "    [1 1]);\n",
    "\n",
    "c=[c1,c2];"
   ]
  },
  {
   "cell_type": "code",
   "execution_count": null,
   "metadata": {},
   "outputs": [],
   "source": [
    "RING_matched_optconstr=atmatch(RING,Variab,c,10^-6,1000,3);%"
   ]
  },
  {
   "cell_type": "code",
   "execution_count": null,
   "metadata": {
    "scrolled": false
   },
   "outputs": [],
   "source": [
    "figure;atplot(RING);% export_fig('ringdba.pdf','-transparent');\n",
    "figure;atplot(RING_matched);% export_fig('ringdba_matched.pdf','-transparent');\n",
    "figure;atplot(RING_matched_optconstr);% export_fig('ringdba_matched.pdf','-transparent');"
   ]
  }
 ],
 "metadata": {
  "kernelspec": {
   "display_name": "Octave",
   "language": "octave",
   "name": "octave"
  },
  "language_info": {
   "file_extension": ".m",
   "help_links": [
    {
     "text": "GNU Octave",
     "url": "https://www.gnu.org/software/octave/support.html"
    },
    {
     "text": "Octave Kernel",
     "url": "https://github.com/Calysto/octave_kernel"
    },
    {
     "text": "MetaKernel Magics",
     "url": "https://metakernel.readthedocs.io/en/latest/source/README.html"
    }
   ],
   "mimetype": "text/x-octave",
   "name": "octave",
   "version": "6.1.0"
  }
 },
 "nbformat": 4,
 "nbformat_minor": 4
}
