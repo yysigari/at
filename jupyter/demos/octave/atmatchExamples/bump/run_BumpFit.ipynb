{
 "cells": [
  {
   "cell_type": "markdown",
   "metadata": {},
   "source": [
    "# [run_BumpFit](https://github.com/atcollab/at/blob/master/atmat/atdemos/atmatchExamples/bump/run_BumpFit.m) example"
   ]
  },
  {
   "cell_type": "code",
   "execution_count": null,
   "metadata": {},
   "outputs": [],
   "source": [
    "load('dba.mat','RING');\n",
    "addpath(fullfile(pwd,'..'))"
   ]
  },
  {
   "cell_type": "markdown",
   "metadata": {},
   "source": [
    "correctors and BPM"
   ]
  },
  {
   "cell_type": "code",
   "execution_count": null,
   "metadata": {},
   "outputs": [],
   "source": [
    "C=atcorrector('C',0,0);\n",
    "M=atmarker('BPM');"
   ]
  },
  {
   "cell_type": "markdown",
   "metadata": {},
   "source": [
    "get one cell and add elements"
   ]
  },
  {
   "cell_type": "code",
   "execution_count": null,
   "metadata": {},
   "outputs": [],
   "source": [
    "arc=[{M};RING(1:18);RING(128:end)];"
   ]
  },
  {
   "cell_type": "code",
   "execution_count": null,
   "metadata": {},
   "outputs": [],
   "source": [
    "indq=findcells(arc,'Class','Quadrupole');\n",
    "for iq=2:2:length(indq)\n",
    "    arc=[arc(1:indq(iq)-1);M;C;arc(indq(iq):end)];\n",
    "    indq=findcells(arc,'Class','Quadrupole');\n",
    "end"
   ]
  },
  {
   "cell_type": "markdown",
   "metadata": {},
   "source": [
    "build variables"
   ]
  },
  {
   "cell_type": "code",
   "execution_count": null,
   "metadata": {},
   "outputs": [],
   "source": [
    "hcor=findcells(arc,'FamName','C');\n",
    "\n",
    "Variab=atVariableBuilder(arc,...\n",
    "    {[hcor(1), hcor(end)],[hcor(2),hcor(end-1)]},...\n",
    "    {{'KickAngle'}});"
   ]
  },
  {
   "cell_type": "markdown",
   "metadata": {},
   "source": [
    "build constraints"
   ]
  },
  {
   "cell_type": "code",
   "execution_count": null,
   "metadata": {},
   "outputs": [],
   "source": [
    "bpm=findcells(arc,'FamName','BPM');       \n",
    "          \n",
    "c1=atlinconstraint(...\n",
    "    [bpm(1)],...\n",
    "    {{'ClosedOrbit',{1}},{'ClosedOrbit',{2}}},...\n",
    "    [1e-3,0],...\n",
    "    [1e-3,0],...\n",
    "    [1e-2 1e-2]);\n",
    "\n",
    "c2=atlinconstraint(...\n",
    "    [bpm(2:end-1)],{{'ClosedOrbit',{1}}},0,0,1e-2); %#ok<*NBRAK>\n",
    "\n",
    "c=[c1,c2];"
   ]
  },
  {
   "cell_type": "markdown",
   "metadata": {},
   "source": [
    "perform matching"
   ]
  },
  {
   "cell_type": "code",
   "execution_count": null,
   "metadata": {},
   "outputs": [],
   "source": [
    "arc_bump=atmatch(arc,Variab,c,10^-15,1000,3,@lsqnonlin);%'fminsearch',3);%\n",
    "figure;atplot(arc_bump,@plClosedOrbit);"
   ]
  }
 ],
 "metadata": {
  "kernelspec": {
   "display_name": "Octave",
   "language": "octave",
   "name": "octave"
  },
  "language_info": {
   "file_extension": ".m",
   "help_links": [
    {
     "text": "GNU Octave",
     "url": "https://www.gnu.org/software/octave/support.html"
    },
    {
     "text": "Octave Kernel",
     "url": "https://github.com/Calysto/octave_kernel"
    },
    {
     "text": "MetaKernel Magics",
     "url": "https://metakernel.readthedocs.io/en/latest/source/README.html"
    }
   ],
   "mimetype": "text/x-octave",
   "name": "octave",
   "version": "6.1.0"
  }
 },
 "nbformat": 4,
 "nbformat_minor": 4
}
