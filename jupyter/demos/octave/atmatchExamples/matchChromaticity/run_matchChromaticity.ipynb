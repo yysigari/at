{
 "cells": [
  {
   "cell_type": "markdown",
   "metadata": {},
   "source": [
    "# [run_matchChromaticity](https://github.com/atcollab/at/blob/master/atmat/atdemos/atmatchExamples/matchChromaticity/run_matchChromaticity.m) example"
   ]
  },
  {
   "cell_type": "markdown",
   "metadata": {},
   "source": [
    "match chrmaticity"
   ]
  },
  {
   "cell_type": "code",
   "execution_count": null,
   "metadata": {},
   "outputs": [],
   "source": [
    "load dba.mat\n",
    "\n",
    "variabsxt=atVariableBuilder(RING,{'SF','SD'},{{'PolynomB',{1,3}}});\n",
    "\n",
    "ConstrChrom=[...\n",
    "    atlinconstraint(1,{{'chromaticity',{1}}},0,0,1)...\n",
    "    atlinconstraint(1,{{'chromaticity',{2}}},0,0,1)];\n",
    "\n",
    "tol=1e-8;\n",
    "RINGchrom0=atmatch(RING,variabsxt,ConstrChrom,tol,1000,4);"
   ]
  }
 ],
 "metadata": {
  "kernelspec": {
   "display_name": "Octave",
   "language": "octave",
   "name": "octave"
  },
  "language_info": {
   "file_extension": ".m",
   "help_links": [
    {
     "text": "GNU Octave",
     "url": "https://www.gnu.org/software/octave/support.html"
    },
    {
     "text": "Octave Kernel",
     "url": "https://github.com/Calysto/octave_kernel"
    },
    {
     "text": "MetaKernel Magics",
     "url": "https://metakernel.readthedocs.io/en/latest/source/README.html"
    }
   ],
   "mimetype": "text/x-octave",
   "name": "octave",
   "version": "6.1.0"
  }
 },
 "nbformat": 4,
 "nbformat_minor": 4
}
