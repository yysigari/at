{
 "cells": [
  {
   "cell_type": "markdown",
   "metadata": {},
   "source": [
    "# [testTrackBBR](https://github.com/atcollab/at/blob/master/atmat/atdemos/trackWithImpedance/testTrackBBR.m) examples"
   ]
  },
  {
   "cell_type": "markdown",
   "metadata": {},
   "source": [
    "create a fast ring from ESRF lattice\n",
    "generate a Broad Band Resonator Impedance\n",
    "add to fast ring"
   ]
  },
  {
   "cell_type": "code",
   "execution_count": null,
   "metadata": {},
   "outputs": [],
   "source": [
    "makeFastRingWithBBR;"
   ]
  },
  {
   "cell_type": "markdown",
   "metadata": {},
   "source": [
    "Generate particle distribution and track\n",
    "watch rms values"
   ]
  },
  {
   "cell_type": "code",
   "execution_count": null,
   "metadata": {},
   "outputs": [],
   "source": [
    "NP=1e4;\n",
    "Nturns=1000;\n",
    "particles=atbeam(NP,atsigma(esrf));\n",
    "disp(std(particles'))\n",
    "for i=1:Nturns\n",
    "  particles=ringpass(fastringBBR,particles,1);\n",
    "  disp(std(particles'))\n",
    "end"
   ]
  }
 ],
 "metadata": {
  "kernelspec": {
   "display_name": "Octave",
   "language": "octave",
   "name": "octave"
  },
  "language_info": {
   "file_extension": ".m",
   "help_links": [
    {
     "text": "GNU Octave",
     "url": "https://www.gnu.org/software/octave/support.html"
    },
    {
     "text": "Octave Kernel",
     "url": "https://github.com/Calysto/octave_kernel"
    },
    {
     "text": "MetaKernel Magics",
     "url": "https://metakernel.readthedocs.io/en/latest/source/README.html"
    }
   ],
   "mimetype": "text/x-octave",
   "name": "octave",
   "version": "6.1.0"
  }
 },
 "nbformat": 4,
 "nbformat_minor": 4
}
